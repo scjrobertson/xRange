{
 "cells": [
  {
   "cell_type": "markdown",
   "metadata": {},
   "source": [
    "# A naive tracking algorithm\n",
    "\n",
    "This notebook currently outlines a highly suspect approach to tracking multiple objects using range-Doppler measurements, it currently contains no code.\n",
    "\n",
    "## Outline\n",
    "\n",
    "### Ground rules for a reduced system\n",
    "\n",
    "<ol type=\"1\">\n",
    "    <li> The number of sensors, $S$, is greater than $4$ and have distinct locations. This ensures trilateration (and by extension multilateration) is viable.</li>\n",
    "    <li> All sensors detect all objects, no object is out of range for a given sensor. </li>\n",
    "    <li> After intialisation, only a single new target can be introduced in a given time step. </li>\n",
    "    <li> There is no missing data, all sensors capaure everything for all time steps.</li>\n",
    "    <li> Tracked objects will be referred to as targets, for no particular reason. </li>\n",
    "</ol>\n",
    "\n",
    "<b> Remark </b>: <i> I prattle on about \"Big-$O$\" notation in this notebook because I think it looks fancy. I take $f = O(g)$ to be roughly analagous to $f \\leq g$, an upper bound on $f$. In similar respects, $f = \\Omega(g)$ is a lower bound on $f$, $f \\geq g $. Lastly, $f = \\Theta(g)$ means $f = O(g)$ and $f = \\Omega(g)$, this is hard to guarantee which is why I guess it is usually used for worst case notation</i>.\n",
    "\n",
    "### 1. Range-Doppler peak finding\n",
    "\n",
    "If all values within a $MxN$ range-Doppler map, $R_{D}$, greater than some threshold, $\\epsilon$ , are to be considered possible targets, then the algorithm to determine their map coordinates will be $\\Omega(MN)$.\n",
    "\n",
    "<b> Remark </b>: <i> There are linear time peak finding algorithms but they can only identify a single local peak in a 2D grid. There are also operators in image processing which can identify local maxima, but I can't speak for them. </i>\n",
    "\n",
    "#### A guess\n",
    "$R_{D}$ amounts to real, positive valued matrix. The maximum value can be found in all $N$ columns, using $M$ compares per column. Similarly the maximum can be found in $M$ rows using $N$ compares per row. $$ \\therefore T(M, N) = 2 M N = \\Theta(MN)$$\n",
    "\n",
    "<b> Remark </b>: <i> This is an example of spurious rigour.</i>\n",
    "\n",
    "This will identify $K_{i}$ many targets within a map for a sensor $s_{i}$. Since the sensors have distinct locations and view different portions of the field, in general $K_{i} \\neq K_{j}$. Luckily if less than $4$ sensors do not detect this object it cannot be located anyway, so as before we will assume all sensors see all $K$ objects.\n",
    "\n",
    "### 2.  Multilateration\n",
    "\n",
    "#### Initial\n",
    "\n",
    "#### Further\n",
    "\n",
    "Multilateration in general requires solving  $2 \\mathbf{A}^{T} \\mathbf{A} \\cdot \\mathbf{p} = \\mathbf{A}^{T}\\mathbf{b}$. This is definately less than $O(n^{3})$, which is the cost of directly computing $(\\mathbf{A}^{T}\\mathbf{A})_{nxn}^{-1}$. For $K_{T}$ objects with an assosciated track, this section will require $O(K_{T}n^{3})$ additions.\n",
    "\n",
    "\n",
    "\n",
    "\n",
    "\n",
    "### 3.  "
   ]
  },
  {
   "cell_type": "code",
   "execution_count": null,
   "metadata": {
    "collapsed": true
   },
   "outputs": [],
   "source": []
  }
 ],
 "metadata": {
  "kernelspec": {
   "display_name": "Python 3",
   "language": "python",
   "name": "python3"
  },
  "language_info": {
   "codemirror_mode": {
    "name": "ipython",
    "version": 3
   },
   "file_extension": ".py",
   "mimetype": "text/x-python",
   "name": "python",
   "nbconvert_exporter": "python",
   "pygments_lexer": "ipython3",
   "version": "3.5.1"
  }
 },
 "nbformat": 4,
 "nbformat_minor": 0
}
