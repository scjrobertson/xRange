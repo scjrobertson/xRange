{
 "cells": [
  {
   "cell_type": "markdown",
   "metadata": {},
   "source": [
    "# Simulation Results\n",
    "\n",
    "\n",
    "## Two object tracking\n",
    "\n",
    "<img src=\"images/two_objects/two_objects_hl.gif\">\n",
    "\n",
    "<img src=\"images/two_objects/two_objects_lh.gif\">\n",
    "\n",
    "<img src=\"images/two_objects/two_objects_ll.gif\">\n",
    "\n",
    "<img src=\"images/two_objects/two_objects_hh.gif\">\n",
    "\n",
    "<img src=\"images/two_objects/two_objects_ph.gif\">\n",
    "\n",
    "<img src=\"images/two_objects/two_objects_pd.gif\">"
   ]
  },
  {
   "cell_type": "code",
   "execution_count": null,
   "metadata": {
    "collapsed": true
   },
   "outputs": [],
   "source": []
  }
 ],
 "metadata": {
  "kernelspec": {
   "display_name": "Python 3",
   "language": "python",
   "name": "python3"
  },
  "language_info": {
   "codemirror_mode": {
    "name": "ipython",
    "version": 3
   },
   "file_extension": ".py",
   "mimetype": "text/x-python",
   "name": "python",
   "nbconvert_exporter": "python",
   "pygments_lexer": "ipython3",
   "version": "3.5.1"
  }
 },
 "nbformat": 4,
 "nbformat_minor": 0
}
